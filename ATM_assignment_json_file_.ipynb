{
 "cells": [
  {
   "cell_type": "code",
   "execution_count": 2,
   "id": "578924e8-5ae1-4f73-b829-17c7dfbef0b8",
   "metadata": {},
   "outputs": [],
   "source": [
    "import json"
   ]
  },
  {
   "cell_type": "code",
   "execution_count": 3,
   "id": "6fc3e3fa-59b7-4b94-821d-eb454e9d6e00",
   "metadata": {},
   "outputs": [
    {
     "name": "stdout",
     "output_type": "stream",
     "text": [
      "Welcome to the ATM System\n"
     ]
    },
    {
     "name": "stdin",
     "output_type": "stream",
     "text": [
      "Enter your Account Number:  2345678893\n"
     ]
    },
    {
     "name": "stdout",
     "output_type": "stream",
     "text": [
      "Invalid Account Number. Transaction Terminated.\n"
     ]
    },
    {
     "name": "stdin",
     "output_type": "stream",
     "text": [
      "Enter your ATM PIN:  1234\n"
     ]
    },
    {
     "name": "stdout",
     "output_type": "stream",
     "text": [
      "Invalid PIN. Transaction Terminated.\n"
     ]
    },
    {
     "name": "stdin",
     "output_type": "stream",
     "text": [
      "Enter your Account Type (Savings/Current):  10000\n"
     ]
    },
    {
     "name": "stdout",
     "output_type": "stream",
     "text": [
      "Invalid Account Type. Transaction Terminated.\n"
     ]
    },
    {
     "name": "stdin",
     "output_type": "stream",
     "text": [
      "Enter your Registered Mobile Number:  9068834563\n"
     ]
    },
    {
     "name": "stdout",
     "output_type": "stream",
     "text": [
      "Invalid Mobile Number. Transaction Terminated.\n"
     ]
    },
    {
     "name": "stdin",
     "output_type": "stream",
     "text": [
      "Enter amount to withdraw:  5000\n"
     ]
    },
    {
     "name": "stdout",
     "output_type": "stream",
     "text": [
      "Transaction Successful! 5000.0 withdrawn.\n",
      "Remaining Balance: 5000.0\n"
     ]
    }
   ],
   "source": [
    "with open(\"abhishek_.json\", \"r\") as file:\n",
    "    data = json.load(file)\n",
    "\n",
    "print(\"Welcome to the ATM System\")\n",
    "\n",
    "acc_input = input(\"Enter your Account Number: \")\n",
    "if acc_input != data[\"Account_number\"]:\n",
    "    print(\"Invalid Account Number. Transaction Terminated.\")\n",
    "    exit()\n",
    "\n",
    "pin_input = input(\"Enter your ATM PIN: \")\n",
    "if pin_input != data[\"ATM_pin\"]:\n",
    "    print(\"Invalid PIN. Transaction Terminated.\")\n",
    "    exit()\n",
    "type_input = input(\"Enter your Account Type (Savings/Current): \")\n",
    "if type_input.lower() != data[\"Account_type\"].lower():\n",
    "    print(\"Invalid Account Type. Transaction Terminated.\")\n",
    "    exit()\n",
    "\n",
    "mobile_input = input(\"Enter your Registered Mobile Number: \")\n",
    "if mobile_input != data[\"Mobile_number\"]:\n",
    "    print(\"Invalid Mobile Number. Transaction Terminated.\")\n",
    "    exit()\n",
    "\n",
    "try:\n",
    "    amount = float(input(\"Enter amount to withdraw: \"))\n",
    "    if amount <= 0:\n",
    "        print(\"Invalid amount.\")\n",
    "        exit()\n",
    "    if amount > data[\"Balance\"]:\n",
    "        print(\"Insufficient Balance.\")\n",
    "        exit()\n",
    "except ValueError:\n",
    "    print(\"Invalid input. Please enter a numeric value.\")\n",
    "    exit()\n",
    "\n",
    "data[\"Balance\"] -= amount\n",
    "with open(\"abhishek.json\", \"w\") as file:\n",
    "    json.dump(data, file, indent=4)\n",
    "\n",
    "print(f\"Transaction Successful! {amount} withdrawn.\")\n",
    "print(f\"Remaining Balance: {data['Balance']}\")"
   ]
  },
  {
   "cell_type": "code",
   "execution_count": null,
   "id": "4d599631-dedd-4449-b159-2c56016bee4a",
   "metadata": {},
   "outputs": [],
   "source": []
  }
 ],
 "metadata": {
  "kernelspec": {
   "display_name": "Python [conda env:base] *",
   "language": "python",
   "name": "conda-base-py"
  },
  "language_info": {
   "codemirror_mode": {
    "name": "ipython",
    "version": 3
   },
   "file_extension": ".py",
   "mimetype": "text/x-python",
   "name": "python",
   "nbconvert_exporter": "python",
   "pygments_lexer": "ipython3",
   "version": "3.12.7"
  }
 },
 "nbformat": 4,
 "nbformat_minor": 5
}
